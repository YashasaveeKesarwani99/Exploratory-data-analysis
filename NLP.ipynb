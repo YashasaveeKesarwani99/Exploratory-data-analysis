{
  "nbformat": 4,
  "nbformat_minor": 0,
  "metadata": {
    "colab": {
      "name": "Untitled19.ipynb",
      "provenance": [],
      "collapsed_sections": [],
      "authorship_tag": "ABX9TyNkZUX1mwa0dvaXl0h1F2TN",
      "include_colab_link": true
    },
    "kernelspec": {
      "name": "python3",
      "display_name": "Python 3"
    }
  },
  "cells": [
    {
      "cell_type": "markdown",
      "metadata": {
        "id": "view-in-github",
        "colab_type": "text"
      },
      "source": [
        "<a href=\"https://colab.research.google.com/github/YashasaveeKesarwani99/Exploratory-data-analysis/blob/main/NLP.ipynb\" target=\"_parent\"><img src=\"https://colab.research.google.com/assets/colab-badge.svg\" alt=\"Open In Colab\"/></a>"
      ]
    },
    {
      "cell_type": "code",
      "metadata": {
        "id": "pMmkVNaxMG1Q"
      },
      "source": [
        "import os\r\n",
        "import nltk\r\n",
        "import nltk.corpus"
      ],
      "execution_count": 11,
      "outputs": []
    },
    {
      "cell_type": "code",
      "metadata": {
        "id": "oG09m4mGMYJW"
      },
      "source": [
        "nltk.download('brown')\r\n",
        "brown.words()"
      ],
      "execution_count": null,
      "outputs": []
    },
    {
      "cell_type": "code",
      "metadata": {
        "colab": {
          "base_uri": "https://localhost:8080/"
        },
        "id": "jcppiPMdNkPA",
        "outputId": "8cab70f6-30e3-4f45-9e0c-ae1df1b39df3"
      },
      "source": [
        "nltk.download('gutenberg')\r\n",
        "hamlet = nltk.corpus.gutenberg.words('shakespeare-hamlet.txt')"
      ],
      "execution_count": 13,
      "outputs": [
        {
          "output_type": "stream",
          "text": [
            "[nltk_data] Downloading package gutenberg to /root/nltk_data...\n",
            "[nltk_data]   Unzipping corpora/gutenberg.zip.\n"
          ],
          "name": "stdout"
        }
      ]
    },
    {
      "cell_type": "code",
      "metadata": {
        "colab": {
          "base_uri": "https://localhost:8080/"
        },
        "id": "bgedcT8MOCdS",
        "outputId": "218d4c92-4efa-4c22-f6cb-9f74a6426745"
      },
      "source": [
        "for word in hamlet [:500]:\r\n",
        "  print(word, sep=' ', end=' ')"
      ],
      "execution_count": 14,
      "outputs": [
        {
          "output_type": "stream",
          "text": [
            "[ The Tragedie of Hamlet by William Shakespeare 1599 ] Actus Primus . Scoena Prima . Enter Barnardo and Francisco two Centinels . Barnardo . Who ' s there ? Fran . Nay answer me : Stand & vnfold your selfe Bar . Long liue the King Fran . Barnardo ? Bar . He Fran . You come most carefully vpon your houre Bar . ' Tis now strook twelue , get thee to bed Francisco Fran . For this releefe much thankes : ' Tis bitter cold , And I am sicke at heart Barn . Haue you had quiet Guard ? Fran . Not a Mouse stirring Barn . Well , goodnight . If you do meet Horatio and Marcellus , the Riuals of my Watch , bid them make hast . Enter Horatio and Marcellus . Fran . I thinke I heare them . Stand : who ' s there ? Hor . Friends to this ground Mar . And Leige - men to the Dane Fran . Giue you good night Mar . O farwel honest Soldier , who hath relieu ' d you ? Fra . Barnardo ha ' s my place : giue you goodnight . Exit Fran . Mar . Holla Barnardo Bar . Say , what is Horatio there ? Hor . A peece of him Bar . Welcome Horatio , welcome good Marcellus Mar . What , ha ' s this thing appear ' d againe to night Bar . I haue seene nothing Mar . Horatio saies , ' tis but our Fantasie , And will not let beleefe take hold of him Touching this dreaded sight , twice seene of vs , Therefore I haue intreated him along With vs , to watch the minutes of this Night , That if againe this Apparition come , He may approue our eyes , and speake to it Hor . Tush , tush , ' twill not appeare Bar . Sit downe a - while , And let vs once againe assaile your eares , That are so fortified against our Story , What we two Nights haue seene Hor . Well , sit we downe , And let vs heare Barnardo speake of this Barn . Last night of all , When yond same Starre that ' s Westward from the Pole Had made his course t ' illume that part of Heauen Where now it burnes , Marcellus and my selfe , The Bell then beating one Mar . Peace , breake thee of : Enter the Ghost . Looke where it comes againe Barn . In the same figure , like the King that ' s dead Mar . Thou art a Scholler ; speake to it Horatio Barn . Lookes it not like the King ? Marke it Horatio Hora . Most like : It harrowes me with fear & wonder Barn . It would be spoke too Mar . Question it Horatio Hor . What art "
          ],
          "name": "stdout"
        }
      ]
    },
    {
      "cell_type": "code",
      "metadata": {
        "id": "5bVJkT2GPG8Z"
      },
      "source": [
        "AI = \"\"\"Artificial Intelligence refers to the intelligence of machines. This is in contrast to the natural intelligence of humans and animals. With Artificial Intelligence, machines perform functions such as learning, planning, reasoning and problem-solving. Most noteworthy, Artificial Intelligence is the simulation of human intelligence by machines. It is probably the fastest-growing development in the World of technology and innovation\"\"\""
      ],
      "execution_count": 15,
      "outputs": []
    },
    {
      "cell_type": "code",
      "metadata": {
        "colab": {
          "base_uri": "https://localhost:8080/"
        },
        "id": "fhHkv_veSyn5",
        "outputId": "7954bd5a-faf7-4516-f401-bc45d3f5fcdf"
      },
      "source": [
        "from nltk.tokenize import word_tokenize\r\n",
        "nltk.download('punkt')\r\n",
        "AI_tokens = word_tokenize(AI)\r\n",
        "print(AI_tokens)"
      ],
      "execution_count": 16,
      "outputs": [
        {
          "output_type": "stream",
          "text": [
            "[nltk_data] Downloading package punkt to /root/nltk_data...\n",
            "[nltk_data]   Unzipping tokenizers/punkt.zip.\n",
            "['Artificial', 'Intelligence', 'refers', 'to', 'the', 'intelligence', 'of', 'machines', '.', 'This', 'is', 'in', 'contrast', 'to', 'the', 'natural', 'intelligence', 'of', 'humans', 'and', 'animals', '.', 'With', 'Artificial', 'Intelligence', ',', 'machines', 'perform', 'functions', 'such', 'as', 'learning', ',', 'planning', ',', 'reasoning', 'and', 'problem-solving', '.', 'Most', 'noteworthy', ',', 'Artificial', 'Intelligence', 'is', 'the', 'simulation', 'of', 'human', 'intelligence', 'by', 'machines', '.', 'It', 'is', 'probably', 'the', 'fastest-growing', 'development', 'in', 'the', 'World', 'of', 'technology', 'and', 'innovation']\n"
          ],
          "name": "stdout"
        }
      ]
    },
    {
      "cell_type": "code",
      "metadata": {
        "colab": {
          "base_uri": "https://localhost:8080/"
        },
        "id": "bukyln06TCdj",
        "outputId": "f8845653-e3c7-461b-e8e7-517b1d7ea3db"
      },
      "source": [
        "# calculating the frequency of different words\r\n",
        "\r\n",
        "from nltk.probability import FreqDist\r\n",
        "fdist = FreqDist()\r\n",
        "\r\n",
        "for word in AI_tokens:\r\n",
        "  fdist[word.lower()]+=1\r\n",
        "fdist"
      ],
      "execution_count": 17,
      "outputs": [
        {
          "output_type": "execute_result",
          "data": {
            "text/plain": [
              "FreqDist({',': 4,\n",
              "          '.': 4,\n",
              "          'and': 3,\n",
              "          'animals': 1,\n",
              "          'artificial': 3,\n",
              "          'as': 1,\n",
              "          'by': 1,\n",
              "          'contrast': 1,\n",
              "          'development': 1,\n",
              "          'fastest-growing': 1,\n",
              "          'functions': 1,\n",
              "          'human': 1,\n",
              "          'humans': 1,\n",
              "          'in': 2,\n",
              "          'innovation': 1,\n",
              "          'intelligence': 6,\n",
              "          'is': 3,\n",
              "          'it': 1,\n",
              "          'learning': 1,\n",
              "          'machines': 3,\n",
              "          'most': 1,\n",
              "          'natural': 1,\n",
              "          'noteworthy': 1,\n",
              "          'of': 4,\n",
              "          'perform': 1,\n",
              "          'planning': 1,\n",
              "          'probably': 1,\n",
              "          'problem-solving': 1,\n",
              "          'reasoning': 1,\n",
              "          'refers': 1,\n",
              "          'simulation': 1,\n",
              "          'such': 1,\n",
              "          'technology': 1,\n",
              "          'the': 5,\n",
              "          'this': 1,\n",
              "          'to': 2,\n",
              "          'with': 1,\n",
              "          'world': 1})"
            ]
          },
          "metadata": {
            "tags": []
          },
          "execution_count": 17
        }
      ]
    },
    {
      "cell_type": "code",
      "metadata": {
        "colab": {
          "base_uri": "https://localhost:8080/"
        },
        "id": "u_rKvfHELL0t",
        "outputId": "83e2566c-245f-4cc2-9c66-47d69789bbc1"
      },
      "source": [
        "fdist_mostCommon_10 = fdist.most_common(10)\r\n",
        "fdist_mostCommon_10"
      ],
      "execution_count": 18,
      "outputs": [
        {
          "output_type": "execute_result",
          "data": {
            "text/plain": [
              "[('intelligence', 6),\n",
              " ('the', 5),\n",
              " ('of', 4),\n",
              " ('.', 4),\n",
              " (',', 4),\n",
              " ('artificial', 3),\n",
              " ('machines', 3),\n",
              " ('is', 3),\n",
              " ('and', 3),\n",
              " ('to', 2)]"
            ]
          },
          "metadata": {
            "tags": []
          },
          "execution_count": 18
        }
      ]
    },
    {
      "cell_type": "code",
      "metadata": {
        "colab": {
          "base_uri": "https://localhost:8080/",
          "height": 69
        },
        "id": "xMw6qHnSMm86",
        "outputId": "2d1401d3-d708-4fc7-f2e8-47bc23dd98c5"
      },
      "source": [
        "# Tokenizing words with respect to the new line sequence\r\n",
        "\r\n",
        "from nltk.tokenize import blankline_tokenize\r\n",
        "AI_blankline = blankline_tokenize(AI)\r\n",
        "AI_blankline[0]"
      ],
      "execution_count": 19,
      "outputs": [
        {
          "output_type": "execute_result",
          "data": {
            "application/vnd.google.colaboratory.intrinsic+json": {
              "type": "string"
            },
            "text/plain": [
              "'Artificial Intelligence refers to the intelligence of machines. This is in contrast to the natural intelligence of humans and animals. With Artificial Intelligence, machines perform functions such as learning, planning, reasoning and problem-solving. Most noteworthy, Artificial Intelligence is the simulation of human intelligence by machines. It is probably the fastest-growing development in the World of technology and innovation'"
            ]
          },
          "metadata": {
            "tags": []
          },
          "execution_count": 19
        }
      ]
    },
    {
      "cell_type": "code",
      "metadata": {
        "colab": {
          "base_uri": "https://localhost:8080/"
        },
        "id": "1WTI3p6-ORrp",
        "outputId": "51bfd964-710d-49b8-fe61-5ccd82574932"
      },
      "source": [
        "# stemming\r\n",
        "\r\n",
        "#porter stemming\r\n",
        "from nltk.stem import PorterStemmer\r\n",
        "pts = PorterStemmer()\r\n",
        "pts.stem(\"having\")\r\n",
        "\r\n",
        "# Lancaster Stemming\r\n",
        "\r\n",
        "from nltk.stem import LancasterStemmer\r\n",
        "words = ['give', 'giving','gave']\r\n",
        "pts = LancasterStemmer()\r\n",
        "for i in words:\r\n",
        "  print(i + \":\" +pts.stem(i))"
      ],
      "execution_count": 20,
      "outputs": [
        {
          "output_type": "stream",
          "text": [
            "give:giv\n",
            "giving:giv\n",
            "gave:gav\n"
          ],
          "name": "stdout"
        }
      ]
    },
    {
      "cell_type": "code",
      "metadata": {
        "colab": {
          "base_uri": "https://localhost:8080/"
        },
        "id": "l7VRTyHCQ6xp",
        "outputId": "395168bd-3f6e-442a-ca2f-8c12f8cc3f17"
      },
      "source": [
        "# Lemmatize\r\n",
        "\r\n",
        "from nltk.stem import wordnet\r\n",
        "from nltk.stem import WordNetLemmatizer\r\n",
        "\r\n",
        "word_lemm = WordNetLemmatizer()\r\n",
        "nltk.download('wordnet')\r\n",
        "print(word_lemm.lemmatize(\"corpora\"))"
      ],
      "execution_count": null,
      "outputs": [
        {
          "output_type": "stream",
          "text": [
            "[nltk_data] Downloading package wordnet to /root/nltk_data...\n",
            "[nltk_data]   Unzipping corpora/wordnet.zip.\n",
            "corpus\n"
          ],
          "name": "stdout"
        }
      ]
    },
    {
      "cell_type": "code",
      "metadata": {
        "colab": {
          "base_uri": "https://localhost:8080/"
        },
        "id": "TZKFf4nLXv3H",
        "outputId": "a57310b7-1974-417f-856d-c8218a3f2a87"
      },
      "source": [
        "import re\r\n",
        "punctuation = re.compile(r'[-.?!,:;()|0-9]')\r\n",
        "\r\n",
        "post_punctuations = []\r\n",
        "for words in AI:\r\n",
        "  word = punctuation.sub(\"\",words)\r\n",
        "  if(len(word)>0):\r\n",
        "    post_punctuations.append(word)\r\n",
        "\r\n",
        "post_punctuations"
      ],
      "execution_count": 22,
      "outputs": [
        {
          "output_type": "execute_result",
          "data": {
            "text/plain": [
              "['A',\n",
              " 'r',\n",
              " 't',\n",
              " 'i',\n",
              " 'f',\n",
              " 'i',\n",
              " 'c',\n",
              " 'i',\n",
              " 'a',\n",
              " 'l',\n",
              " ' ',\n",
              " 'I',\n",
              " 'n',\n",
              " 't',\n",
              " 'e',\n",
              " 'l',\n",
              " 'l',\n",
              " 'i',\n",
              " 'g',\n",
              " 'e',\n",
              " 'n',\n",
              " 'c',\n",
              " 'e',\n",
              " ' ',\n",
              " 'r',\n",
              " 'e',\n",
              " 'f',\n",
              " 'e',\n",
              " 'r',\n",
              " 's',\n",
              " ' ',\n",
              " 't',\n",
              " 'o',\n",
              " ' ',\n",
              " 't',\n",
              " 'h',\n",
              " 'e',\n",
              " ' ',\n",
              " 'i',\n",
              " 'n',\n",
              " 't',\n",
              " 'e',\n",
              " 'l',\n",
              " 'l',\n",
              " 'i',\n",
              " 'g',\n",
              " 'e',\n",
              " 'n',\n",
              " 'c',\n",
              " 'e',\n",
              " ' ',\n",
              " 'o',\n",
              " 'f',\n",
              " ' ',\n",
              " 'm',\n",
              " 'a',\n",
              " 'c',\n",
              " 'h',\n",
              " 'i',\n",
              " 'n',\n",
              " 'e',\n",
              " 's',\n",
              " ' ',\n",
              " 'T',\n",
              " 'h',\n",
              " 'i',\n",
              " 's',\n",
              " ' ',\n",
              " 'i',\n",
              " 's',\n",
              " ' ',\n",
              " 'i',\n",
              " 'n',\n",
              " ' ',\n",
              " 'c',\n",
              " 'o',\n",
              " 'n',\n",
              " 't',\n",
              " 'r',\n",
              " 'a',\n",
              " 's',\n",
              " 't',\n",
              " ' ',\n",
              " 't',\n",
              " 'o',\n",
              " ' ',\n",
              " 't',\n",
              " 'h',\n",
              " 'e',\n",
              " ' ',\n",
              " 'n',\n",
              " 'a',\n",
              " 't',\n",
              " 'u',\n",
              " 'r',\n",
              " 'a',\n",
              " 'l',\n",
              " ' ',\n",
              " 'i',\n",
              " 'n',\n",
              " 't',\n",
              " 'e',\n",
              " 'l',\n",
              " 'l',\n",
              " 'i',\n",
              " 'g',\n",
              " 'e',\n",
              " 'n',\n",
              " 'c',\n",
              " 'e',\n",
              " ' ',\n",
              " 'o',\n",
              " 'f',\n",
              " ' ',\n",
              " 'h',\n",
              " 'u',\n",
              " 'm',\n",
              " 'a',\n",
              " 'n',\n",
              " 's',\n",
              " ' ',\n",
              " 'a',\n",
              " 'n',\n",
              " 'd',\n",
              " ' ',\n",
              " 'a',\n",
              " 'n',\n",
              " 'i',\n",
              " 'm',\n",
              " 'a',\n",
              " 'l',\n",
              " 's',\n",
              " ' ',\n",
              " 'W',\n",
              " 'i',\n",
              " 't',\n",
              " 'h',\n",
              " ' ',\n",
              " 'A',\n",
              " 'r',\n",
              " 't',\n",
              " 'i',\n",
              " 'f',\n",
              " 'i',\n",
              " 'c',\n",
              " 'i',\n",
              " 'a',\n",
              " 'l',\n",
              " ' ',\n",
              " 'I',\n",
              " 'n',\n",
              " 't',\n",
              " 'e',\n",
              " 'l',\n",
              " 'l',\n",
              " 'i',\n",
              " 'g',\n",
              " 'e',\n",
              " 'n',\n",
              " 'c',\n",
              " 'e',\n",
              " ' ',\n",
              " 'm',\n",
              " 'a',\n",
              " 'c',\n",
              " 'h',\n",
              " 'i',\n",
              " 'n',\n",
              " 'e',\n",
              " 's',\n",
              " ' ',\n",
              " 'p',\n",
              " 'e',\n",
              " 'r',\n",
              " 'f',\n",
              " 'o',\n",
              " 'r',\n",
              " 'm',\n",
              " ' ',\n",
              " 'f',\n",
              " 'u',\n",
              " 'n',\n",
              " 'c',\n",
              " 't',\n",
              " 'i',\n",
              " 'o',\n",
              " 'n',\n",
              " 's',\n",
              " ' ',\n",
              " 's',\n",
              " 'u',\n",
              " 'c',\n",
              " 'h',\n",
              " ' ',\n",
              " 'a',\n",
              " 's',\n",
              " ' ',\n",
              " 'l',\n",
              " 'e',\n",
              " 'a',\n",
              " 'r',\n",
              " 'n',\n",
              " 'i',\n",
              " 'n',\n",
              " 'g',\n",
              " ' ',\n",
              " 'p',\n",
              " 'l',\n",
              " 'a',\n",
              " 'n',\n",
              " 'n',\n",
              " 'i',\n",
              " 'n',\n",
              " 'g',\n",
              " ' ',\n",
              " 'r',\n",
              " 'e',\n",
              " 'a',\n",
              " 's',\n",
              " 'o',\n",
              " 'n',\n",
              " 'i',\n",
              " 'n',\n",
              " 'g',\n",
              " ' ',\n",
              " 'a',\n",
              " 'n',\n",
              " 'd',\n",
              " ' ',\n",
              " 'p',\n",
              " 'r',\n",
              " 'o',\n",
              " 'b',\n",
              " 'l',\n",
              " 'e',\n",
              " 'm',\n",
              " 's',\n",
              " 'o',\n",
              " 'l',\n",
              " 'v',\n",
              " 'i',\n",
              " 'n',\n",
              " 'g',\n",
              " ' ',\n",
              " 'M',\n",
              " 'o',\n",
              " 's',\n",
              " 't',\n",
              " ' ',\n",
              " 'n',\n",
              " 'o',\n",
              " 't',\n",
              " 'e',\n",
              " 'w',\n",
              " 'o',\n",
              " 'r',\n",
              " 't',\n",
              " 'h',\n",
              " 'y',\n",
              " ' ',\n",
              " 'A',\n",
              " 'r',\n",
              " 't',\n",
              " 'i',\n",
              " 'f',\n",
              " 'i',\n",
              " 'c',\n",
              " 'i',\n",
              " 'a',\n",
              " 'l',\n",
              " ' ',\n",
              " 'I',\n",
              " 'n',\n",
              " 't',\n",
              " 'e',\n",
              " 'l',\n",
              " 'l',\n",
              " 'i',\n",
              " 'g',\n",
              " 'e',\n",
              " 'n',\n",
              " 'c',\n",
              " 'e',\n",
              " ' ',\n",
              " 'i',\n",
              " 's',\n",
              " ' ',\n",
              " 't',\n",
              " 'h',\n",
              " 'e',\n",
              " ' ',\n",
              " 's',\n",
              " 'i',\n",
              " 'm',\n",
              " 'u',\n",
              " 'l',\n",
              " 'a',\n",
              " 't',\n",
              " 'i',\n",
              " 'o',\n",
              " 'n',\n",
              " ' ',\n",
              " 'o',\n",
              " 'f',\n",
              " ' ',\n",
              " 'h',\n",
              " 'u',\n",
              " 'm',\n",
              " 'a',\n",
              " 'n',\n",
              " ' ',\n",
              " 'i',\n",
              " 'n',\n",
              " 't',\n",
              " 'e',\n",
              " 'l',\n",
              " 'l',\n",
              " 'i',\n",
              " 'g',\n",
              " 'e',\n",
              " 'n',\n",
              " 'c',\n",
              " 'e',\n",
              " ' ',\n",
              " 'b',\n",
              " 'y',\n",
              " ' ',\n",
              " 'm',\n",
              " 'a',\n",
              " 'c',\n",
              " 'h',\n",
              " 'i',\n",
              " 'n',\n",
              " 'e',\n",
              " 's',\n",
              " ' ',\n",
              " 'I',\n",
              " 't',\n",
              " ' ',\n",
              " 'i',\n",
              " 's',\n",
              " ' ',\n",
              " 'p',\n",
              " 'r',\n",
              " 'o',\n",
              " 'b',\n",
              " 'a',\n",
              " 'b',\n",
              " 'l',\n",
              " 'y',\n",
              " ' ',\n",
              " 't',\n",
              " 'h',\n",
              " 'e',\n",
              " ' ',\n",
              " 'f',\n",
              " 'a',\n",
              " 's',\n",
              " 't',\n",
              " 'e',\n",
              " 's',\n",
              " 't',\n",
              " 'g',\n",
              " 'r',\n",
              " 'o',\n",
              " 'w',\n",
              " 'i',\n",
              " 'n',\n",
              " 'g',\n",
              " ' ',\n",
              " 'd',\n",
              " 'e',\n",
              " 'v',\n",
              " 'e',\n",
              " 'l',\n",
              " 'o',\n",
              " 'p',\n",
              " 'm',\n",
              " 'e',\n",
              " 'n',\n",
              " 't',\n",
              " ' ',\n",
              " 'i',\n",
              " 'n',\n",
              " ' ',\n",
              " 't',\n",
              " 'h',\n",
              " 'e',\n",
              " ' ',\n",
              " 'W',\n",
              " 'o',\n",
              " 'r',\n",
              " 'l',\n",
              " 'd',\n",
              " ' ',\n",
              " 'o',\n",
              " 'f',\n",
              " ' ',\n",
              " 't',\n",
              " 'e',\n",
              " 'c',\n",
              " 'h',\n",
              " 'n',\n",
              " 'o',\n",
              " 'l',\n",
              " 'o',\n",
              " 'g',\n",
              " 'y',\n",
              " ' ',\n",
              " 'a',\n",
              " 'n',\n",
              " 'd',\n",
              " ' ',\n",
              " 'i',\n",
              " 'n',\n",
              " 'n',\n",
              " 'o',\n",
              " 'v',\n",
              " 'a',\n",
              " 't',\n",
              " 'i',\n",
              " 'o',\n",
              " 'n']"
            ]
          },
          "metadata": {
            "tags": []
          },
          "execution_count": 22
        }
      ]
    },
    {
      "cell_type": "code",
      "metadata": {
        "id": "JJYSOQXMuamZ",
        "colab": {
          "base_uri": "https://localhost:8080/"
        },
        "outputId": "52fab5d0-146c-4bef-a116-a69d5f9dc307"
      },
      "source": [
        "# defining parts of speech\r\n",
        "\r\n",
        "sent = \"Timothy is a natural when it comes to drawing\"\r\n",
        "sent_tokens = word_tokenize(sent)\r\n",
        "nltk.download('averaged_perceptron_tagger')\r\n",
        "for tokens in sent_tokens:\r\n",
        "  print(nltk.pos_tag([tokens]))"
      ],
      "execution_count": 25,
      "outputs": [
        {
          "output_type": "stream",
          "text": [
            "[nltk_data] Downloading package averaged_perceptron_tagger to\n",
            "[nltk_data]     /root/nltk_data...\n",
            "[nltk_data]   Unzipping taggers/averaged_perceptron_tagger.zip.\n",
            "[('Timothy', 'NN')]\n",
            "[('is', 'VBZ')]\n",
            "[('a', 'DT')]\n",
            "[('natural', 'JJ')]\n",
            "[('when', 'WRB')]\n",
            "[('it', 'PRP')]\n",
            "[('comes', 'VBZ')]\n",
            "[('to', 'TO')]\n",
            "[('drawing', 'VBG')]\n"
          ],
          "name": "stdout"
        }
      ]
    },
    {
      "cell_type": "code",
      "metadata": {
        "id": "TD2AsAMIya-W"
      },
      "source": [
        ""
      ],
      "execution_count": null,
      "outputs": []
    }
  ]
}