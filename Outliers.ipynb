{
  "nbformat": 4,
  "nbformat_minor": 0,
  "metadata": {
    "colab": {
      "name": "Untitled16.ipynb",
      "provenance": [],
      "collapsed_sections": [],
      "authorship_tag": "ABX9TyPjVU85+a33uMbNF4VL8YCL",
      "include_colab_link": true
    },
    "kernelspec": {
      "name": "python3",
      "display_name": "Python 3"
    }
  },
  "cells": [
    {
      "cell_type": "markdown",
      "metadata": {
        "id": "view-in-github",
        "colab_type": "text"
      },
      "source": [
        "<a href=\"https://colab.research.google.com/github/YashasaveeKesarwani99/Exploratory-data-analysis/blob/main/Outliers.ipynb\" target=\"_parent\"><img src=\"https://colab.research.google.com/assets/colab-badge.svg\" alt=\"Open In Colab\"/></a>"
      ]
    },
    {
      "cell_type": "code",
      "metadata": {
        "id": "VGH16njUpDSF"
      },
      "source": [
        "import numpy as np\r\n",
        "import matplotlib.pyplot as plt\r\n",
        "%matplotlib inline"
      ],
      "execution_count": 2,
      "outputs": []
    },
    {
      "cell_type": "markdown",
      "metadata": {
        "id": "RJQJxNqjr3lt"
      },
      "source": [
        "**Detecting and taking out the outliers using Z-score and IQR** "
      ]
    },
    {
      "cell_type": "code",
      "metadata": {
        "id": "iOML2myysLpx"
      },
      "source": [
        "dataset= [11,10,12,14,12,15,14,13,15,102,12,14,17,19,107, 10,13,12,14,12,108,12,11,14,13,15,10,15,12,10,14,13,15,10]"
      ],
      "execution_count": 4,
      "outputs": []
    },
    {
      "cell_type": "code",
      "metadata": {
        "colab": {
          "base_uri": "https://localhost:8080/"
        },
        "id": "ZZxrhKDWsPbi",
        "outputId": "77c86766-e8dc-42c9-f03d-a7fe3e897143"
      },
      "source": [
        "# dealing with outliers using z score\r\n",
        "\r\n",
        "outliers=[]\r\n",
        "def detect_outliers(data):\r\n",
        "    \r\n",
        "    threshold=3\r\n",
        "    mean = np.mean(data)\r\n",
        "    std =np.std(data)\r\n",
        "    \r\n",
        "    \r\n",
        "    for i in data:\r\n",
        "        z_score= (i - mean)/std \r\n",
        "        if np.abs(z_score) > threshold:\r\n",
        "            outliers.append(i)\r\n",
        "    return outliers\r\n",
        "\r\n",
        "outlier_pt=detect_outliers(dataset)\r\n",
        "outlier_pt"
      ],
      "execution_count": 6,
      "outputs": [
        {
          "output_type": "execute_result",
          "data": {
            "text/plain": [
              "[102, 107, 108]"
            ]
          },
          "metadata": {
            "tags": []
          },
          "execution_count": 6
        }
      ]
    },
    {
      "cell_type": "code",
      "metadata": {
        "id": "yg4RrF6wvluZ"
      },
      "source": [
        "# dealing with outliers with InterQuartileRange\r\n",
        "\r\n",
        "sorted(dataset)\r\n",
        "\r\n",
        "quantile1, quantile3= np.percentile(dataset,[25,75])\r\n",
        "iqr=quantile3-quantile1\r\n",
        "lower_bound_val = quantile1 -(1.5 * iqr) \r\n",
        "upper_bound_val = quantile3 +(1.5 * iqr)"
      ],
      "execution_count": 8,
      "outputs": []
    }
  ]
}